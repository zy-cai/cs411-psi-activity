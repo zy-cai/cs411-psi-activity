{
 "cells": [
  {
   "cell_type": "markdown",
   "id": "c97da3c2",
   "metadata": {
    "tags": [],
    "user_expressions": []
   },
   "source": [
    "# Problem Solving Phase"
   ]
  },
  {
   "cell_type": "code",
   "execution_count": null,
   "id": "3befff85",
   "metadata": {
    "execution": {
     "iopub.execute_input": "2023-09-19T15:05:39.826129Z",
     "iopub.status.busy": "2023-09-19T15:05:39.825750Z",
     "iopub.status.idle": "2023-09-19T15:05:40.282378Z",
     "shell.execute_reply": "2023-09-19T15:05:40.281668Z",
     "shell.execute_reply.started": "2023-09-19T15:05:39.826104Z"
    },
    "tags": []
   },
   "outputs": [],
   "source": [
    "# Run this cell to import necessary packages and dataset. Do not use any additional libraries.\n",
    "import pandas as pd; import numpy as np\n",
    "import matplotlib; import matplotlib.pyplot as plt\n",
    "from pandas.plotting import parallel_coordinates\n",
    "from IPython.core.interactiveshell import InteractiveShell\n",
    "\n",
    "%matplotlib inline\n",
    "matplotlib.style.use('ggplot')\n",
    "InteractiveShell.ast_node_interactivity = \"all\"\n",
    "\n",
    "files = {\n",
    "    \"CAR COMPANY 1\": (\"AQ_phase1_dataset1.csv\", \"Dataset 1 (Company 1)\"),\n",
    "    \"CAR COMPANY 2\": (\"AQ_phase1_dataset2.csv\", \"Dataset 2 (Company 2)\"),\n",
    "    \"CAR COMPANY 3\": (\"AQ_phase1_dataset3.csv\", \"Dataset 3 (Company 3)\"),\n",
    "    \"CAR COMPANY 4\": (\"AQ_phase1_dataset4.csv\", \"Dataset 4 (Company 4)\")\n",
    "}\n",
    "\n",
    "label_col = \"Input_Dataset_name\"\n",
    "dfs, dfs_plot = {}, {}\n",
    "for company, (file, label) in files.items():\n",
    "    df = pd.read_csv(file)\n",
    "    dfs[company] = df\n",
    "    df_plot = df.copy()\n",
    "    df_plot[label_col] = label\n",
    "    dfs_plot[company] = df_plot"
   ]
  },
  {
   "cell_type": "markdown",
   "id": "0ad4b46d",
   "metadata": {},
   "source": [
    "## Dataset description\n",
    "Each of the 4 dataframes shows **units sold** (in 100’s) and **employee satisfaction** (1–100 scale) from 182 sites worldwide for car companies 1–4.\n",
    "\n",
    "Running the cell below will return **descriptive statistics** and **a parallel coordinates plot**for comparison:\n",
    "\n",
    "1. **Median**: middle value that splits the data into two equal halves.\n",
    "\n",
    "2. **Interquartile range (IQR)**: spread of the middle 50% of the data (75th percentile − 25th percentile).\n",
    "\n",
    "3. **Spearman's correlation**: strength and direction of monotonic relationships (both variables rise/fall together, or one rises as the other falls).\n",
    "\n",
    "4. **Parallel coordinates**: visualization of multivariate data, where each record is a line crossing vertical axes (one per variable)."
   ]
  },
  {
   "cell_type": "code",
   "execution_count": null,
   "id": "e88f9f83",
   "metadata": {
    "execution": {
     "iopub.execute_input": "2023-09-19T15:05:40.283840Z",
     "iopub.status.busy": "2023-09-19T15:05:40.283480Z",
     "iopub.status.idle": "2023-09-19T15:05:40.776734Z",
     "shell.execute_reply": "2023-09-19T15:05:40.775952Z",
     "shell.execute_reply.started": "2023-09-19T15:05:40.283817Z"
    },
    "tags": []
   },
   "outputs": [],
   "source": [
    "median_df = pd.DataFrame({name: df.median().round(2) for name, df in dfs.items()})\n",
    "iqr_df = pd.DataFrame({name: (df.quantile(0.75) - df.quantile(0.25)).round(2) for name, df in dfs.items()})\n",
    "\n",
    "print(\"--- Median ---\"); \n",
    "display(median_df);\n",
    "print (\" \")\n",
    "\n",
    "print(\"--- Interquartile Range ---\"); \n",
    "display(iqr_df); \n",
    "print (\" \")\n",
    "\n",
    "print(\"--- Spearman Correlations ---\");\n",
    "corr_blocks = {name: df.corr(method=\"spearman\").round(2) for name, df in dfs.items()}\n",
    "corr_side_by_side = pd.concat(corr_blocks, axis=1); display(corr_side_by_side); \n",
    "print (\" \")\n",
    "\n",
    "print(\"--- Parallel Coordinates ---\");\n",
    "fig, axes = plt.subplots(1, 4, figsize=(22, 5), constrained_layout=True)\n",
    "for ax, (name, dfc) in zip(axes, dfs_plot.items()):\n",
    "    parallel_coordinates(dfc, label_col, ax=ax); ax.set_title(name, fontsize=10);\n",
    "    \n",
    "plt.show();"
   ]
  },
  {
   "cell_type": "markdown",
   "id": "3559f876",
   "metadata": {
    "dashboard-toc-hr-collapsed": true,
    "tags": [],
    "user_expressions": []
   },
   "source": [
    "## Task description\n",
    "\n",
    "Design **multiple measures** to rank the four car companies from **most** to **least successful**, using **all data points** in the datasets.\n",
    "\n",
    "For **each measure**:\n",
    "1. Print the resulting **company order** (e.g., 1234, 2134)\n",
    "2. Print your **reasoning** — why you chose this approach or calculation\n",
    "3. Show how you **used the descriptive statistics** from above in your reasoning\n",
    "4. State your **confidence** in the measure\n",
    "\n",
    "**Important:** Always print all four options for each measure.\n",
    "\n",
    "### How to create a new measure\n",
    "\n",
    "Use the template cell provided below. To add a measure:\n",
    "1. Insert a new cell below the template\n",
    "2. Copy the template contents into it\n",
    "3. Modify the copied cell with your new measure\n",
    "4. Repeat for as many measures as you can within the allotted time"
   ]
  },
  {
   "cell_type": "code",
   "execution_count": null,
   "id": "fbfc1505",
   "metadata": {
    "tags": []
   },
   "outputs": [],
   "source": [
    "# Template for designing a measure (Note: Your intuitive ideas are more valuable than minor syntax details)\n",
    "# ----------------------------------------------------------------------------------------------------------\n",
    "\n",
    "# You code (if any)\n",
    "\n",
    "ranking_list = [\"1234\", \"1243\", \"1324\", \"1342\", \"1423\", \"1432\", \"2134\", \"2143\", \"2314\", \"2341\", \"2413\", \"2431\", \"3124\", \"3142\", \"3214\", \"3241\", \"3412\", \"3421\", \"4123\", \"4132\", \"4213\", \"4231\", \"4312\", \"4321\"]\n",
    "carcompany_order = 'None' # Pick one string from the list as the car company order\n",
    "print(carcompany_order)\n",
    "\n",
    "carcompany_order_reasoning = 'None' # Write your reasoning here\n",
    "print(carcompany_order_reasoning)\n",
    "\n",
    "option_a = \"I found the descriptive statistics HELPFUL in designing the measure (my measure is BASED ON one or more of them)\"\n",
    "option_b = \"I found the descriptive statistics HELPFUL in designing the measure (my measure is NOT BASED ON them, but I still found them helpful in reasoning about what measures might or might not work)\"\n",
    "option_c = \"I found the descriptive statistics NOT HELPFUL in designing the measure (my measure is NOT BASED ON them and I did not find information from them to be convincing enough to answer the task)\"\n",
    "option_d = \"I found the descriptive statistics NOT HELPFUL in designing the measure (my measure is BASED ON them, but I did not find information from them to be convincing enough to answer the task)\"\n",
    "used_descriptive_statistics_in_reasoning = 'None' # Choose one of the four options above\n",
    "print(used_descriptive_statistics_in_reasoning)\n",
    "\n",
    "confidence_measure = 0 # Choose one confidence level (1-2-3-4-5)\n",
    "print(confidence_measure)"
   ]
  },
  {
   "cell_type": "code",
   "execution_count": null,
   "id": "84533fd7",
   "metadata": {
    "tags": []
   },
   "outputs": [],
   "source": [
    "\n",
    "\n",
    "\n",
    "\n",
    "\n",
    "\n",
    "\n",
    "\n",
    "\n"
   ]
  },
  {
   "cell_type": "markdown",
   "id": "8ec48cf8",
   "metadata": {
    "tags": [],
    "user_expressions": []
   },
   "source": [
    "# Instruction Phase\n",
    "\n",
    "Please **complete the Problem Solving phase** before moving to this phase."
   ]
  },
  {
   "cell_type": "markdown",
   "id": "794f1ce1",
   "metadata": {
    "tags": [],
    "user_expressions": []
   },
   "source": [
    "### Click the link to watch the first video (4 mins)\n",
    "[Instruction Phase - Part 1](https://www.youtube.com/embed/zxh4JnVCwss?si=c7PN1ZqxDUHd6xzz)"
   ]
  },
  {
   "cell_type": "markdown",
   "id": "9945deff",
   "metadata": {
    "tags": [],
    "user_expressions": []
   },
   "source": [
    "### Click the link to watch the second video (11 mins)\n",
    "[Instruction Phase - Part 2](https://www.youtube.com/embed/VzNpSVnSbhg?si=dsxKEvcHWxDvFIp-)"
   ]
  },
  {
   "cell_type": "markdown",
   "id": "dc496821",
   "metadata": {
    "tags": [],
    "user_expressions": []
   },
   "source": [
    "### Click the link to watch the third video (4 mins)\n",
    "[Instruction Phase - Part 3](https://www.youtube.com/embed/bryiXWN3owI?si=B0wIgj7tyQ1yShY3)"
   ]
  }
 ],
 "metadata": {
  "dashboard-toc-showcode": true,
  "dashboard-toc-showmarkdowntxt": false,
  "kernelspec": {
   "display_name": "Python 3",
   "language": "python",
   "name": "python3"
  },
  "language_info": {
   "codemirror_mode": {
    "name": "ipython",
    "version": 3
   },
   "file_extension": ".py",
   "mimetype": "text/x-python",
   "name": "python",
   "nbconvert_exporter": "python",
   "pygments_lexer": "ipython3",
   "version": "3.11.2"
  },
  "unianalytics_cell_mapping": [
   [
    "c97da3c2",
    "c97da3c2"
   ],
   [
    "3befff85",
    "3befff85"
   ],
   [
    "0ad4b46d",
    "0ad4b46d"
   ],
   [
    "e88f9f83",
    "e88f9f83"
   ],
   [
    "3559f876",
    "3559f876"
   ],
   [
    "fbfc1505",
    "fbfc1505"
   ],
   [
    "84533fd7",
    "84533fd7"
   ],
   [
    "8ec48cf8",
    "8ec48cf8"
   ],
   [
    "794f1ce1",
    "794f1ce1"
   ],
   [
    "9945deff",
    "9945deff"
   ],
   [
    "dc496821",
    "dc496821"
   ]
  ],
  "unianalytics_notebook_id": "15602780-5479-4f45-b6ae-4fc7d6c91c61"
 },
 "nbformat": 4,
 "nbformat_minor": 5
}
