{
 "cells": [
  {
   "cell_type": "markdown",
   "id": "c97da3c2",
   "metadata": {
    "tags": [],
    "user_expressions": []
   },
   "source": [
    "# CAR COMPANY\n",
    "# Problem Solving Phase / Notes: Read these carefully\n",
    "This is a **Python Jupyter Notebook** containing both code and rich text elements, such as figures, links, equations etc. The notebook is generally split into the following sections:\n",
    "\n",
    "1. **Initial set of pre-filled cells**, that you should evaluate (run) just to load some Python modules (packages), the dataset required for your task and its variables in memory.\n",
    "2. **Description of a concrete task** associated with the dataset. \n",
    "3. **Final section (with one or more empty cells)** where you can perform analyses with the loaded dataset (e.g., write a few lines of code if needed), answer the question posed, and describe your reasoning in words.\n",
    "\n",
    "Read and execute each cell in order, without skipping forward. To execute any cell, place your cursor in the cell and either click the play button on the top left corner of the notebook, or, press Shift+Enter on your keyboard. It might take a couple of seconds to receive an output. \n",
    "\n",
    "Have fun!"
   ]
  },
  {
   "cell_type": "code",
   "execution_count": null,
   "id": "3befff85",
   "metadata": {
    "execution": {
     "iopub.execute_input": "2023-09-19T15:05:39.826129Z",
     "iopub.status.busy": "2023-09-19T15:05:39.825750Z",
     "iopub.status.idle": "2023-09-19T15:05:40.282378Z",
     "shell.execute_reply": "2023-09-19T15:05:40.281668Z",
     "shell.execute_reply.started": "2023-09-19T15:05:39.826104Z"
    },
    "tags": []
   },
   "outputs": [],
   "source": [
    "#Run the following to import necessary packages and import dataset. Do not use any additional plotting libraries.\n",
    "import pandas as pd\n",
    "import numpy as np\n",
    "from pandas.plotting import parallel_coordinates\n",
    "from IPython.core.interactiveshell import InteractiveShell\n",
    "InteractiveShell.ast_node_interactivity = \"all\"\n",
    "import matplotlib\n",
    "import matplotlib.pyplot as plt\n",
    "%matplotlib inline\n",
    "matplotlib.style.use('ggplot')\n",
    "\n",
    "d1 = \"AQ_phase1_dataset1.csv\"\n",
    "d2 = \"AQ_phase1_dataset2.csv\"\n",
    "d3 = \"AQ_phase1_dataset3.csv\"\n",
    "d4 = \"AQ_phase1_dataset4.csv\"\n",
    "\n",
    "df1 = pd.read_csv(d1)\n",
    "df2 = pd.read_csv(d2)\n",
    "df3 = pd.read_csv(d3)\n",
    "df4 = pd.read_csv(d4)\n",
    "\n",
    "df1_copy=df1.copy()\n",
    "df2_copy=df2.copy()\n",
    "df3_copy=df3.copy()\n",
    "df4_copy=df4.copy()\n",
    "df1_copy['Input_Dataset_name'] = 'Dataset 1 (Company A)'\n",
    "df2_copy['Input_Dataset_name'] = 'Dataset 2 (Company B)'\n",
    "df3_copy['Input_Dataset_name'] = 'Dataset 3 (Company C)'\n",
    "df4_copy['Input_Dataset_name'] = 'Dataset 4 (Company D)'\n",
    "\n",
    "#Print first five lines of dataset 1 as a check to see if the datasets are loaded properly.\n",
    "df1.head(n=5)"
   ]
  },
  {
   "cell_type": "markdown",
   "id": "0ad4b46d",
   "metadata": {},
   "source": [
    "# DATASET DESCRIPTION\n",
    "Each of the 4 dataframes loaded above represents the **total number of units sold** (in 100’s) and **employee satisfaction** (on a scale of 1 to 100) from 182 sites all over the world for car companies 1, 2, 3 and 4. \n",
    "\n",
    "Run the cells below to obtain some descriptive (numerical) statistics and a parallel coordinates visualization for these datasets. \n",
    "\n",
    "1. **Median** is a measure of central tendency that separates the higher half from the lower half of a data sample.\n",
    "\n",
    "2. **Interquartile range (IQR)** is a measure of variability (statistical dispersion), based on dividing a data set into quartiles. Quartiles divide a rank-ordered data set into four equal parts. IQR is equal to the difference between 75th and 25th percentiles, or between upper and lower quartiles.\n",
    "\n",
    "3. **Spearman's correlation** measures the strength and direction of monotonic association between two variables. A monotonic relationship is a relationship that does one of the following: (1) as the value of one variable increases, so does the value of the other variable; or (2) as the value of one variable increases, the other variable value decreases. \n",
    "\n",
    "4. **Parallel coordinates** is a plotting technique for multivariate data (allows one to estimate some descriptive statistics visually). Here, data points are represented as connected line segments. Each vertical line represents one data attribute. One complete set of connected line segments across all the attributes represents one data point."
   ]
  },
  {
   "cell_type": "code",
   "execution_count": null,
   "id": "e88f9f83",
   "metadata": {
    "execution": {
     "iopub.execute_input": "2023-09-19T15:05:40.283840Z",
     "iopub.status.busy": "2023-09-19T15:05:40.283480Z",
     "iopub.status.idle": "2023-09-19T15:05:40.776734Z",
     "shell.execute_reply": "2023-09-19T15:05:40.775952Z",
     "shell.execute_reply.started": "2023-09-19T15:05:40.283817Z"
    },
    "tags": []
   },
   "outputs": [],
   "source": [
    "from IPython.core.interactiveshell import InteractiveShell\n",
    "InteractiveShell.ast_node_interactivity = \"all\"\n",
    "#You will receive 4 outputs: median for both variables, inter-quartile range for both variables, Spearman's correlation between the variables, and a parallel coordinates visualization\n",
    "\n",
    "#CAR COMPANY 1\n",
    "print (\"Median\")\n",
    "round(df1.median(),2)\n",
    "print (\" \")\n",
    "print (\"----\")\n",
    "\n",
    "print (\"Interquartile range\")\n",
    "round((df1.quantile(q=0.75) - df1.quantile(q=0.25)),2)\n",
    "print (\" \")\n",
    "print (\"----\")\n",
    "\n",
    "print (\"Spearman correlation\")\n",
    "round(df1.corr(method='spearman'),2)\n",
    "print (\" \")\n",
    "print (\"----\")\n",
    "\n",
    "print (\"Parallel coordinates visualization\")\n",
    "parallel_coordinates(df1_copy, 'Input_Dataset_name')\n",
    "plt.show()"
   ]
  },
  {
   "cell_type": "code",
   "execution_count": null,
   "id": "7fa53967",
   "metadata": {
    "execution": {
     "iopub.execute_input": "2023-09-19T15:05:59.722253Z",
     "iopub.status.busy": "2023-09-19T15:05:59.721899Z",
     "iopub.status.idle": "2023-09-19T15:06:00.138309Z",
     "shell.execute_reply": "2023-09-19T15:06:00.137277Z",
     "shell.execute_reply.started": "2023-09-19T15:05:59.722229Z"
    },
    "tags": []
   },
   "outputs": [],
   "source": [
    "from IPython.core.interactiveshell import InteractiveShell\n",
    "InteractiveShell.ast_node_interactivity = \"all\"\n",
    "#You will receive 4 outputs: median for both variables, inter-quartile range for both variables, Spearman's correlation between the variables, and a parallel coordinates visualization\n",
    "\n",
    "#CAR COMPANY 2\n",
    "print (\"Median\")\n",
    "round(df2.median(),2)\n",
    "print (\" \")\n",
    "print (\"----\")\n",
    "\n",
    "print (\"Interquartile range\")\n",
    "round((df2.quantile(q=0.75) - df2.quantile(q=0.25)),2)\n",
    "print (\" \")\n",
    "print (\"----\")\n",
    "\n",
    "print (\"Spearman correlation\")\n",
    "round(df2.corr(method='spearman'),2)\n",
    "print (\" \")\n",
    "print (\"----\")\n",
    "\n",
    "print (\"Parallel coordinates visualization\")\n",
    "parallel_coordinates(df2_copy, 'Input_Dataset_name')\n",
    "plt.show()"
   ]
  },
  {
   "cell_type": "code",
   "execution_count": null,
   "id": "b4703765",
   "metadata": {
    "execution": {
     "iopub.execute_input": "2023-09-19T15:06:04.347367Z",
     "iopub.status.busy": "2023-09-19T15:06:04.347030Z",
     "iopub.status.idle": "2023-09-19T15:06:04.758615Z",
     "shell.execute_reply": "2023-09-19T15:06:04.757622Z",
     "shell.execute_reply.started": "2023-09-19T15:06:04.347339Z"
    },
    "tags": []
   },
   "outputs": [],
   "source": [
    "from IPython.core.interactiveshell import InteractiveShell\n",
    "InteractiveShell.ast_node_interactivity = \"all\"\n",
    "#You will receive 4 outputs: median for both variables, inter-quartile range for both variables, Spearman's correlation between the variables, and a parallel coordinates visualization\n",
    "\n",
    "#CAR COMPANY 3\n",
    "print (\"Median\")\n",
    "round(df3.median(),2)\n",
    "print (\" \")\n",
    "print (\"----\")\n",
    "\n",
    "print (\"Interquartile range\")\n",
    "round((df3.quantile(q=0.75) - df3.quantile(q=0.25)),2)\n",
    "print (\" \")\n",
    "print (\"----\")\n",
    "\n",
    "print (\"Spearman correlation\")\n",
    "round(df3.corr(method='spearman'),2)\n",
    "print (\" \")\n",
    "print (\"----\")\n",
    "\n",
    "print (\"Parallel coordinates visualization\")\n",
    "parallel_coordinates(df3_copy, 'Input_Dataset_name')\n",
    "plt.show()"
   ]
  },
  {
   "cell_type": "code",
   "execution_count": null,
   "id": "ff11f44b",
   "metadata": {
    "execution": {
     "iopub.execute_input": "2023-09-19T15:06:07.160935Z",
     "iopub.status.busy": "2023-09-19T15:06:07.160589Z",
     "iopub.status.idle": "2023-09-19T15:06:07.566805Z",
     "shell.execute_reply": "2023-09-19T15:06:07.566025Z",
     "shell.execute_reply.started": "2023-09-19T15:06:07.160909Z"
    },
    "tags": []
   },
   "outputs": [],
   "source": [
    "from IPython.core.interactiveshell import InteractiveShell\n",
    "InteractiveShell.ast_node_interactivity = \"all\"\n",
    "#You will receive 4 outputs: median for both variables, inter-quartile range for both variables, Spearman's correlation between the variables, and a parallel coordinates visualization\n",
    "\n",
    "#CAR COMPANY 4\n",
    "print (\"Median\")\n",
    "round(df4.median(),2)\n",
    "print (\" \")\n",
    "print (\"----\")\n",
    "\n",
    "print (\"Interquartile range\")\n",
    "round((df4.quantile(q=0.75) - df4.quantile(q=0.25)),2)\n",
    "print (\" \")\n",
    "print (\"----\")\n",
    "\n",
    "print (\"Spearman correlation\")\n",
    "round(df4.corr(method='spearman'),2)\n",
    "print (\" \")\n",
    "print (\"----\")\n",
    "\n",
    "print (\"Parallel coordinates visualization\")\n",
    "parallel_coordinates(df4_copy, 'Input_Dataset_name')\n",
    "plt.show()"
   ]
  },
  {
   "cell_type": "markdown",
   "id": "3559f876",
   "metadata": {
    "dashboard-toc-hr-collapsed": true,
    "tags": [],
    "user_expressions": []
   },
   "source": [
    "# TASK\n",
    "Design **as many measures** to **rank order** the datasets from the **most successful** to the **least successful** car company. Your measures should be based on consideration of every data point in the datasets. We expect you to **generate multiple measures**.\n",
    "\n",
    "For **each measure that you design**: \n",
    "\n",
    "1. Select and print the resulting **dataset ordering** (e.g., 1234, 2134 etc)\n",
    "2. Write and print a **reasoning** behind your answer selection (an explanation of **why** you took certain steps or performed certain calculations to get to the solution)\n",
    "3. Select and print how you **used information about the descriptive statistics** (obtained by running the cells above) in reasoning about your answer\n",
    "4. Select and print your **confidence** in the designed measure\n",
    "\n",
    "**MAKE SURE** to print all four options for each measure.\n",
    "\n",
    "# Important note about designing your measures\n",
    "Below is a **template for a cell** where you can design a measure. To create a new measure:\n",
    "\n",
    "1. Add a new code cell below the template cell (Click on **\"Insert a cell below\"** option at the **top right corner** of the cell)\n",
    "2. Copy all contents of the template cell to this newly added code cell. \n",
    "3. Use this newly added code cell to change your answers corresponding to the created measure. \n",
    "\n",
    "Follow a similar process to add new cells for creating as many measures as you are able to (within the allotted time). \n",
    "\n"
   ]
  },
  {
   "cell_type": "code",
   "execution_count": null,
   "id": "fbfc1505",
   "metadata": {
    "tags": []
   },
   "outputs": [],
   "source": [
    "#Template for designing a measure. \n",
    "\n",
    "#NOTE: Round all your statistics to 2 decimal places before reasoning with them!! \n",
    "\n",
    "#[\"1234\", \"1243\", \"1324\", \"1342\", \"1423\", \"1432\", \"2134\", \"2143\", \"2314\", \"2341\", \"2413\", \"2431\", \"3124\", \"3142\", \"3214\", \"3241\", \"3412\", \"3421\", \"4123\", \"4132\", \"4213\", \"4231\", \"4312\", \"4321\"]\n",
    "#Choose one string from the list above, replacing 'None' below, as the order of the car company\n",
    "carcompany_ordering_measure = 'None'\n",
    "print(carcompany_ordering_measure)\n",
    "\n",
    "#Write your reasoning here, replacing 'None' below\n",
    "carcompany_ordering_reasoning_measure = 'None'\n",
    "print(carcompany_ordering_reasoning_measure)\n",
    "\n",
    "option_a = \"I found the descriptive statistics HELPFUL in designing the measure (my measure is BASED ON one or more of them)\"\n",
    "option_b = \"I found the descriptive statistics HELPFUL in designing the measure (my measure is NOT BASED ON them, but I still found them helpful in reasoning about what measures might or might not work for rank ordering the datasets)\"\n",
    "option_c = \"I found the descriptive statistics NOT HELPFUL in designing the measure (my measure is NOT BASED ON them and I did not find information from them to be convincing enough to answer the task)\"\n",
    "option_d = \"I found the descriptive statistics NOT HELPFUL in designing the measure (my measure is BASED ON them, but I did not find information from them to be convincing enough to answer the task)\"\n",
    "#Choose one of the four options above, replacing 'None' below\n",
    "used_descriptive_statistics_in_reasoning_measure = 'None'\n",
    "print(used_descriptive_statistics_in_reasoning_measure)\n",
    "\n",
    "#Assign a value out of \"1-2-3-4-5\" to denote your confidence in this created measure\n",
    "confidence_measure = 1\n",
    "print(confidence_measure)"
   ]
  },
  {
   "cell_type": "code",
   "execution_count": null,
   "id": "84533fd7",
   "metadata": {
    "tags": []
   },
   "outputs": [],
   "source": [
    "#ONLY use this space below to write your code (if needed) for any measure you generate. DO NOT ERASE this code segment from the workbook.\n",
    "\n",
    "\n",
    "\n",
    "\n",
    "\n",
    "\n",
    "\n",
    "\n",
    "\n",
    "\n",
    "\n",
    "\n",
    "\n",
    "#Your intuitive ideas are valuable and we don't want you to stumble in designing your measure because of forgetting minor syntax-related details!! \n",
    "#Therefore, in case you have an idea and need any help with syntax in implementing it, you can access the following documentation files (use the \"Search\" tab for queries) and/or summarized syntax sheets.\n",
    "\n",
    "#a) Pandas library\n",
    "#Documentation file: https://pandas.pydata.org/pandas-docs/stable/\n",
    "#Syntax sheet: https://datacamp-community-prod.s3.amazonaws.com/fbc502d0-46b2-4e1b-b6b0-5402ff273251\n",
    "\n",
    "#b) Numpy library\n",
    "#Documentation file: https://docs.scipy.org/doc/numpy/user/index.html\n",
    "#Syntax sheet: https://datacamp-community-prod.s3.amazonaws.com/e9f83f72-a81b-42c7-af44-4e35b48b20b7\n",
    "\n",
    "#c) Matplotlib library\n",
    "#Documentation file: https://matplotlib.org/contents.html\n",
    "#Syntax sheet: https://datacamp-community-prod.s3.amazonaws.com/28b8210c-60cc-4f13-b0b4-5b4f2ad4790b\n",
    "\n",
    "#d) Scipy library\n",
    "#Documentation file: https://docs.scipy.org/doc/scipy/reference/\n",
    "#Syntax sheet: https://datacamp-community-prod.s3.amazonaws.com/5710caa7-94d4-4248-be94-d23dea9e668f\n"
   ]
  },
  {
   "cell_type": "markdown",
   "id": "8ec48cf8",
   "metadata": {
    "tags": [],
    "user_expressions": []
   },
   "source": [
    "# Instruction Phase\n",
    "\n",
    "Please **complete the Problem Solving phase** before moving to this phase."
   ]
  },
  {
   "cell_type": "markdown",
   "id": "794f1ce1",
   "metadata": {
    "tags": [],
    "user_expressions": []
   },
   "source": [
    "### Click the link to watch the first video (4 mins)\n",
    "[Instruction Phase - Part 1](https://www.youtube.com/embed/zxh4JnVCwss?si=c7PN1ZqxDUHd6xzz)"
   ]
  },
  {
   "cell_type": "markdown",
   "id": "9945deff",
   "metadata": {
    "tags": [],
    "user_expressions": []
   },
   "source": [
    "### Click the link to watch the second video (11 mins)\n",
    "[Instruction Phase - Part 2](https://www.youtube.com/embed/VzNpSVnSbhg?si=dsxKEvcHWxDvFIp-)"
   ]
  },
  {
   "cell_type": "markdown",
   "id": "dc496821",
   "metadata": {
    "tags": [],
    "user_expressions": []
   },
   "source": [
    "### Click the link to watch the third video (4 mins)\n",
    "[Instruction Phase - Part 3](https://www.youtube.com/embed/bryiXWN3owI?si=B0wIgj7tyQ1yShY3)"
   ]
  }
 ],
 "metadata": {
  "dashboard-toc-showcode": true,
  "dashboard-toc-showmarkdowntxt": false,
  "kernelspec": {
   "display_name": "Python 3",
   "language": "python",
   "name": "python3"
  },
  "language_info": {
   "codemirror_mode": {
    "name": "ipython",
    "version": 3
   },
   "file_extension": ".py",
   "mimetype": "text/x-python",
   "name": "python",
   "nbconvert_exporter": "python",
   "pygments_lexer": "ipython3",
   "version": "3.11.2"
  },
  "unianalytics_cell_mapping": [
   [
    "c97da3c2",
    "c97da3c2"
   ],
   [
    "7da38d53",
    "7da38d53"
   ],
   [
    "3befff85",
    "3befff85"
   ],
   [
    "0ad4b46d",
    "0ad4b46d"
   ],
   [
    "e88f9f83",
    "e88f9f83"
   ],
   [
    "7fa53967",
    "7fa53967"
   ],
   [
    "b4703765",
    "b4703765"
   ],
   [
    "ff11f44b",
    "ff11f44b"
   ],
   [
    "3559f876",
    "3559f876"
   ],
   [
    "fbfc1505",
    "fbfc1505"
   ],
   [
    "84533fd7",
    "84533fd7"
   ],
   [
    "8ec48cf8",
    "8ec48cf8"
   ],
   [
    "794f1ce1",
    "794f1ce1"
   ],
   [
    "e9367521",
    "e9367521"
   ],
   [
    "9945deff",
    "9945deff"
   ],
   [
    "7bd31ae5",
    "7bd31ae5"
   ],
   [
    "dc496821",
    "dc496821"
   ],
   [
    "4a742128",
    "4a742128"
   ]
  ],
  "unianalytics_notebook_id": "8d94b2d8-fc29-4ec1-af68-0d5cecd17054"
 },
 "nbformat": 4,
 "nbformat_minor": 5
}
